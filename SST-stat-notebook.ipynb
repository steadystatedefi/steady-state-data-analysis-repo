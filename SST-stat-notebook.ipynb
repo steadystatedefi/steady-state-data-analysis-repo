{
 "cells": [
  {
   "cell_type": "markdown",
   "metadata": {},
   "source": [
    "# Steady State Preliminary Exploit Analysis\n",
    "Updated Aug 23, 2021\n",
    "\n",
    "Developer: Jasmine Brunson\n",
    "\n"
   ]
  },
  {
   "cell_type": "markdown",
   "metadata": {},
   "source": [
    "Steady State aims to simplify and strengthen cryptocurrency platforms and protocols and their markets by providing comprehensive insurance coverage through automated smart contracts and data analysis that removes bias, increases efficiency, and ensures immutable claims processing. The following notebook extrapolates data recorded for over 3 years in the DeFi space. "
   ]
  },
  {
   "cell_type": "markdown",
   "metadata": {},
   "source": [
    "The following notebook displays exploratory data analysis, augmented dataframes, linear regression graphs, and more to extrapolate on the data on hacks/exploits that exist in the decentralized finance industry. The Steady State Protocol Exploits notebook is a framework for future projects pertaining to finding relationships between units of analysis. \n",
    "\n",
    "Ex. Is there a relationship between the date of an exploit and the market cap uptrend or downtrend leading up to the exploit?\n",
    "\n",
    "With the Risk Analysis DB (RAD) we are able to ask questions like these..."
   ]
  },
  {
   "cell_type": "code",
   "execution_count": 2,
   "metadata": {},
   "outputs": [],
   "source": [
    "import pandas as pd\n",
    "import seaborn as sns\n",
    "sns.set()\n",
    "import numpy as np\n",
    "import statsmodels.formula.api as smf\n",
    "\n",
    "import matplotlib.pyplot as plt\n",
    "import statsmodels.api as sm\n",
    "import scipy.stats\n",
    "import os \n",
    "\n",
    "from IPython.display import Image\n",
    "from sklearn.linear_model import LinearRegression"
   ]
  },
  {
   "cell_type": "code",
   "execution_count": 3,
   "metadata": {},
   "outputs": [
    {
     "name": "stdout",
     "output_type": "stream",
     "text": [
      "/Users/jasmineb33/Downloads\n"
     ]
    }
   ],
   "source": [
    "print(os.getcwd())"
   ]
  },
  {
   "cell_type": "code",
   "execution_count": 4,
   "metadata": {
    "scrolled": false
   },
   "outputs": [
    {
     "data": {
      "text/html": [
       "<div>\n",
       "<style scoped>\n",
       "    .dataframe tbody tr th:only-of-type {\n",
       "        vertical-align: middle;\n",
       "    }\n",
       "\n",
       "    .dataframe tbody tr th {\n",
       "        vertical-align: top;\n",
       "    }\n",
       "\n",
       "    .dataframe thead th {\n",
       "        text-align: right;\n",
       "    }\n",
       "</style>\n",
       "<table border=\"1\" class=\"dataframe\">\n",
       "  <thead>\n",
       "    <tr style=\"text-align: right;\">\n",
       "      <th></th>\n",
       "      <th>ptcl_name</th>\n",
       "      <th>prtcl_id</th>\n",
       "      <th>is_core</th>\n",
       "      <th>contract_hkd</th>\n",
       "      <th>hcker_address</th>\n",
       "      <th>hk_trans_hash</th>\n",
       "      <th>block_id</th>\n",
       "      <th>gas_for_hcktrans</th>\n",
       "      <th>exploit_date</th>\n",
       "      <th>avg_gas_whenhck</th>\n",
       "      <th>...</th>\n",
       "      <th>dollar_value_lost</th>\n",
       "      <th>ETH_lost</th>\n",
       "      <th>BTC_lost</th>\n",
       "      <th>oth_tokn_loss</th>\n",
       "      <th>was_recovered</th>\n",
       "      <th>dollar_value_recovered</th>\n",
       "      <th>ETH_recovered</th>\n",
       "      <th>BTC_recovered</th>\n",
       "      <th>oth_tokn_recoverd</th>\n",
       "      <th>source_link</th>\n",
       "    </tr>\n",
       "  </thead>\n",
       "  <tbody>\n",
       "    <tr>\n",
       "      <th>0</th>\n",
       "      <td>Bancor</td>\n",
       "      <td>NaN</td>\n",
       "      <td>YES</td>\n",
       "      <td>0x009BB5e9fCF28E5E601B7D0e9e821da6365d0a9c</td>\n",
       "      <td>0xbCEaA0040764009fdCFf407e82Ad1f06465fd2C4</td>\n",
       "      <td>0xc0bbc8dcf63b7e17aecfd8e90d6f131ebddd904d4fac...</td>\n",
       "      <td>5771739</td>\n",
       "      <td>37472.0</td>\n",
       "      <td>9/7/18</td>\n",
       "      <td>NaN</td>\n",
       "      <td>...</td>\n",
       "      <td>13500000.0</td>\n",
       "      <td>NaN</td>\n",
       "      <td>NaN</td>\n",
       "      <td>24984 eth (12,500,000), 3,200,000BNT (10,000,0...</td>\n",
       "      <td>NaN</td>\n",
       "      <td>NaN</td>\n",
       "      <td>NaN</td>\n",
       "      <td>NaN</td>\n",
       "      <td>NaN</td>\n",
       "      <td>https://www.apriorit.com/dev-blog/554-bancor-e...</td>\n",
       "    </tr>\n",
       "    <tr>\n",
       "      <th>1</th>\n",
       "      <td>Opyn</td>\n",
       "      <td>NaN</td>\n",
       "      <td>YES</td>\n",
       "      <td>0xe7870231992ab4b1a01814fa0a599115fe94203f</td>\n",
       "      <td>0x915c2d6f571d3d47a182dd59d5f41e87d4c3fb8e</td>\n",
       "      <td>0x351bcbb182cb11cecb0d50d9f1bf45bd6820b71f7de5...</td>\n",
       "      <td>10592504</td>\n",
       "      <td>522066.0</td>\n",
       "      <td>4/8/2020</td>\n",
       "      <td>NaN</td>\n",
       "      <td>...</td>\n",
       "      <td>371260.0</td>\n",
       "      <td>NaN</td>\n",
       "      <td>NaN</td>\n",
       "      <td>371000 USDC</td>\n",
       "      <td>NaN</td>\n",
       "      <td>NaN</td>\n",
       "      <td>NaN</td>\n",
       "      <td>NaN</td>\n",
       "      <td>NaN</td>\n",
       "      <td>https://defirate.com/opyn-hack/</td>\n",
       "    </tr>\n",
       "    <tr>\n",
       "      <th>2</th>\n",
       "      <td>MakerDAO</td>\n",
       "      <td>NaN</td>\n",
       "      <td>YES</td>\n",
       "      <td>0x9f8F72aA9304c8B593d555F12eF6589cC3A579A2</td>\n",
       "      <td>0x9c05a05893ada984fc20d0da0c046de5cc0e8273</td>\n",
       "      <td>0xf521860de947bda81102589944777c98cd4cdda328d8...</td>\n",
       "      <td>9656756</td>\n",
       "      <td>447316.0</td>\n",
       "      <td>12/3/2020</td>\n",
       "      <td>NaN</td>\n",
       "      <td>...</td>\n",
       "      <td>8320000.0</td>\n",
       "      <td>NaN</td>\n",
       "      <td>NaN</td>\n",
       "      <td>62892.93 ETH</td>\n",
       "      <td>NaN</td>\n",
       "      <td>NaN</td>\n",
       "      <td>NaN</td>\n",
       "      <td>NaN</td>\n",
       "      <td>NaN</td>\n",
       "      <td>https://medium.com/@whiterabbit_hq/black-thurs...</td>\n",
       "    </tr>\n",
       "    <tr>\n",
       "      <th>3</th>\n",
       "      <td>UniSwap v1</td>\n",
       "      <td>NaN</td>\n",
       "      <td>YES</td>\n",
       "      <td>0xc0a47dFe034B400B47bDaD5FecDa2621de6c4d95</td>\n",
       "      <td>0xa9bf70a420d364e923c74448d9d817d3f2a77822</td>\n",
       "      <td>?</td>\n",
       "      <td>NaN</td>\n",
       "      <td>NaN</td>\n",
       "      <td>12/4/2020</td>\n",
       "      <td>NaN</td>\n",
       "      <td>...</td>\n",
       "      <td>300000.0</td>\n",
       "      <td>NaN</td>\n",
       "      <td>NaN</td>\n",
       "      <td>1764 ETH</td>\n",
       "      <td>NaN</td>\n",
       "      <td>NaN</td>\n",
       "      <td>NaN</td>\n",
       "      <td>NaN</td>\n",
       "      <td>NaN</td>\n",
       "      <td>https://defirate.com/imbtc-uniswap-hack/</td>\n",
       "    </tr>\n",
       "    <tr>\n",
       "      <th>4</th>\n",
       "      <td>Akropolis</td>\n",
       "      <td>NaN</td>\n",
       "      <td>YES</td>\n",
       "      <td>0x7967ada2a32a633d5c055e2e075a83023b632b4e</td>\n",
       "      <td>0x9f26aE5cd245bFEeb5926D61497550f79D9C6C1c</td>\n",
       "      <td>0xf15623567231c67df2b8bcc5540236fbda2c3ac11ecb...</td>\n",
       "      <td>11242699</td>\n",
       "      <td>44937.0</td>\n",
       "      <td>12/11/2020</td>\n",
       "      <td>NaN</td>\n",
       "      <td>...</td>\n",
       "      <td>2030851.0</td>\n",
       "      <td>NaN</td>\n",
       "      <td>NaN</td>\n",
       "      <td>2030850.5 DAI</td>\n",
       "      <td>NaN</td>\n",
       "      <td>NaN</td>\n",
       "      <td>NaN</td>\n",
       "      <td>NaN</td>\n",
       "      <td>NaN</td>\n",
       "      <td>https://www.rekt.news/akropolis-rekt/</td>\n",
       "    </tr>\n",
       "  </tbody>\n",
       "</table>\n",
       "<p>5 rows × 23 columns</p>\n",
       "</div>"
      ],
      "text/plain": [
       "    ptcl_name  prtcl_id is_core                                contract_hkd  \\\n",
       "0      Bancor       NaN     YES  0x009BB5e9fCF28E5E601B7D0e9e821da6365d0a9c   \n",
       "1        Opyn       NaN     YES  0xe7870231992ab4b1a01814fa0a599115fe94203f   \n",
       "2    MakerDAO       NaN     YES  0x9f8F72aA9304c8B593d555F12eF6589cC3A579A2   \n",
       "3  UniSwap v1       NaN     YES  0xc0a47dFe034B400B47bDaD5FecDa2621de6c4d95   \n",
       "4   Akropolis       NaN     YES  0x7967ada2a32a633d5c055e2e075a83023b632b4e   \n",
       "\n",
       "                                hcker_address  \\\n",
       "0  0xbCEaA0040764009fdCFf407e82Ad1f06465fd2C4   \n",
       "1  0x915c2d6f571d3d47a182dd59d5f41e87d4c3fb8e   \n",
       "2  0x9c05a05893ada984fc20d0da0c046de5cc0e8273   \n",
       "3  0xa9bf70a420d364e923c74448d9d817d3f2a77822   \n",
       "4  0x9f26aE5cd245bFEeb5926D61497550f79D9C6C1c   \n",
       "\n",
       "                                       hk_trans_hash   block_id  \\\n",
       "0  0xc0bbc8dcf63b7e17aecfd8e90d6f131ebddd904d4fac...    5771739   \n",
       "1  0x351bcbb182cb11cecb0d50d9f1bf45bd6820b71f7de5...  10592504    \n",
       "2  0xf521860de947bda81102589944777c98cd4cdda328d8...    9656756   \n",
       "3                                                  ?        NaN   \n",
       "4  0xf15623567231c67df2b8bcc5540236fbda2c3ac11ecb...   11242699   \n",
       "\n",
       "   gas_for_hcktrans exploit_date  avg_gas_whenhck  \\\n",
       "0           37472.0       9/7/18              NaN   \n",
       "1          522066.0     4/8/2020              NaN   \n",
       "2          447316.0    12/3/2020              NaN   \n",
       "3               NaN    12/4/2020              NaN   \n",
       "4           44937.0   12/11/2020              NaN   \n",
       "\n",
       "                         ...                          dollar_value_lost  \\\n",
       "0                        ...                                 13500000.0   \n",
       "1                        ...                                   371260.0   \n",
       "2                        ...                                  8320000.0   \n",
       "3                        ...                                   300000.0   \n",
       "4                        ...                                  2030851.0   \n",
       "\n",
       "  ETH_lost BTC_lost                                      oth_tokn_loss  \\\n",
       "0      NaN      NaN  24984 eth (12,500,000), 3,200,000BNT (10,000,0...   \n",
       "1      NaN      NaN                                        371000 USDC   \n",
       "2      NaN      NaN                                      62892.93 ETH    \n",
       "3      NaN      NaN                                           1764 ETH   \n",
       "4      NaN      NaN                                      2030850.5 DAI   \n",
       "\n",
       "  was_recovered  dollar_value_recovered ETH_recovered BTC_recovered  \\\n",
       "0           NaN                     NaN           NaN           NaN   \n",
       "1           NaN                     NaN           NaN           NaN   \n",
       "2           NaN                     NaN           NaN           NaN   \n",
       "3           NaN                     NaN           NaN           NaN   \n",
       "4           NaN                     NaN           NaN           NaN   \n",
       "\n",
       "  oth_tokn_recoverd                                        source_link  \n",
       "0               NaN  https://www.apriorit.com/dev-blog/554-bancor-e...  \n",
       "1               NaN                    https://defirate.com/opyn-hack/  \n",
       "2               NaN  https://medium.com/@whiterabbit_hq/black-thurs...  \n",
       "3               NaN           https://defirate.com/imbtc-uniswap-hack/  \n",
       "4               NaN              https://www.rekt.news/akropolis-rekt/  \n",
       "\n",
       "[5 rows x 23 columns]"
      ]
     },
     "execution_count": 4,
     "metadata": {},
     "output_type": "execute_result"
    }
   ],
   "source": [
    "path = 'ER-Modeled-DB-21.csv'\n",
    "df = pd.read_csv(path)\n",
    "df.head() # First 5 recorded"
   ]
  },
  {
   "cell_type": "code",
   "execution_count": 5,
   "metadata": {
    "scrolled": true
   },
   "outputs": [
    {
     "data": {
      "text/plain": [
       "['ptcl_name',\n",
       " 'prtcl_id',\n",
       " 'is_core',\n",
       " 'contract_hkd',\n",
       " 'hcker_address',\n",
       " 'hk_trans_hash',\n",
       " 'block_id',\n",
       " 'gas_for_hcktrans',\n",
       " 'exploit_date',\n",
       " 'avg_gas_whenhck',\n",
       " 'ptcl_Mcap_whenhckd',\n",
       " 'hck_style',\n",
       " 'was_audited',\n",
       " 'dollar_value_lost',\n",
       " 'ETH_lost',\n",
       " 'BTC_lost',\n",
       " 'oth_tokn_loss',\n",
       " 'was_recovered',\n",
       " 'dollar_value_recovered',\n",
       " 'ETH_recovered',\n",
       " 'BTC_recovered',\n",
       " 'oth_tokn_recoverd',\n",
       " 'source_link']"
      ]
     },
     "execution_count": 5,
     "metadata": {},
     "output_type": "execute_result"
    }
   ],
   "source": [
    "[col for col in df] # A data frame is an iterator that yields the column names"
   ]
  },
  {
   "cell_type": "markdown",
   "metadata": {},
   "source": [
    "### Amount of ETH gas loss in DeFi hack "
   ]
  },
  {
   "cell_type": "markdown",
   "metadata": {},
   "source": [
    "The Ethereum gas used in hacks/exploits "
   ]
  },
  {
   "cell_type": "code",
   "execution_count": 6,
   "metadata": {
    "scrolled": true
   },
   "outputs": [
    {
     "data": {
      "text/html": [
       "<div>\n",
       "<style scoped>\n",
       "    .dataframe tbody tr th:only-of-type {\n",
       "        vertical-align: middle;\n",
       "    }\n",
       "\n",
       "    .dataframe tbody tr th {\n",
       "        vertical-align: top;\n",
       "    }\n",
       "\n",
       "    .dataframe thead th {\n",
       "        text-align: right;\n",
       "    }\n",
       "</style>\n",
       "<table border=\"1\" class=\"dataframe\">\n",
       "  <thead>\n",
       "    <tr style=\"text-align: right;\">\n",
       "      <th></th>\n",
       "      <th>ptcl_name</th>\n",
       "      <th>gas_for_hcktrans</th>\n",
       "    </tr>\n",
       "  </thead>\n",
       "  <tbody>\n",
       "    <tr>\n",
       "      <th>0</th>\n",
       "      <td>Bancor</td>\n",
       "      <td>37472.0</td>\n",
       "    </tr>\n",
       "    <tr>\n",
       "      <th>1</th>\n",
       "      <td>Opyn</td>\n",
       "      <td>522066.0</td>\n",
       "    </tr>\n",
       "    <tr>\n",
       "      <th>2</th>\n",
       "      <td>MakerDAO</td>\n",
       "      <td>447316.0</td>\n",
       "    </tr>\n",
       "    <tr>\n",
       "      <th>3</th>\n",
       "      <td>UniSwap v1</td>\n",
       "      <td>NaN</td>\n",
       "    </tr>\n",
       "    <tr>\n",
       "      <th>4</th>\n",
       "      <td>Akropolis</td>\n",
       "      <td>44937.0</td>\n",
       "    </tr>\n",
       "  </tbody>\n",
       "</table>\n",
       "</div>"
      ],
      "text/plain": [
       "    ptcl_name  gas_for_hcktrans\n",
       "0      Bancor           37472.0\n",
       "1        Opyn          522066.0\n",
       "2    MakerDAO          447316.0\n",
       "3  UniSwap v1               NaN\n",
       "4   Akropolis           44937.0"
      ]
     },
     "execution_count": 6,
     "metadata": {},
     "output_type": "execute_result"
    }
   ],
   "source": [
    "df[['ptcl_name', 'gas_for_hcktrans']].head()"
   ]
  },
  {
   "cell_type": "code",
   "execution_count": 7,
   "metadata": {},
   "outputs": [
    {
     "data": {
      "text/plain": [
       "(229, 45)"
      ]
     },
     "execution_count": 7,
     "metadata": {},
     "output_type": "execute_result"
    }
   ],
   "source": [
    "df['gas_for_hcktrans'].size, df['gas_for_hcktrans'].dropna().size"
   ]
  },
  {
   "cell_type": "code",
   "execution_count": 8,
   "metadata": {
    "scrolled": true
   },
   "outputs": [],
   "source": [
    "ndf = df[['ptcl_name', 'gas_for_hcktrans']].dropna() # Drops null values in gas df"
   ]
  },
  {
   "cell_type": "code",
   "execution_count": 9,
   "metadata": {},
   "outputs": [
    {
     "data": {
      "text/plain": [
       "0      37472\n",
       "1     522066\n",
       "2     447316\n",
       "4      44937\n",
       "5    8644044\n",
       "Name: gas_for_hcktrans, dtype: int64"
      ]
     },
     "execution_count": 9,
     "metadata": {},
     "output_type": "execute_result"
    }
   ],
   "source": [
    "ndf[\"gas_for_hcktrans\"]\n",
    "ndf[\"gas_for_hcktrans\"].astype(float).astype(int).head()"
   ]
  },
  {
   "cell_type": "code",
   "execution_count": 10,
   "metadata": {},
   "outputs": [
    {
     "data": {
      "text/html": [
       "<div>\n",
       "<style scoped>\n",
       "    .dataframe tbody tr th:only-of-type {\n",
       "        vertical-align: middle;\n",
       "    }\n",
       "\n",
       "    .dataframe tbody tr th {\n",
       "        vertical-align: top;\n",
       "    }\n",
       "\n",
       "    .dataframe thead th {\n",
       "        text-align: right;\n",
       "    }\n",
       "</style>\n",
       "<table border=\"1\" class=\"dataframe\">\n",
       "  <thead>\n",
       "    <tr style=\"text-align: right;\">\n",
       "      <th></th>\n",
       "      <th>ptcl_name</th>\n",
       "      <th>gas_for_hcktrans</th>\n",
       "    </tr>\n",
       "  </thead>\n",
       "  <tbody>\n",
       "    <tr>\n",
       "      <th>0</th>\n",
       "      <td>Bancor</td>\n",
       "      <td>37472.0</td>\n",
       "    </tr>\n",
       "    <tr>\n",
       "      <th>1</th>\n",
       "      <td>Opyn</td>\n",
       "      <td>522066.0</td>\n",
       "    </tr>\n",
       "    <tr>\n",
       "      <th>2</th>\n",
       "      <td>MakerDAO</td>\n",
       "      <td>447316.0</td>\n",
       "    </tr>\n",
       "    <tr>\n",
       "      <th>4</th>\n",
       "      <td>Akropolis</td>\n",
       "      <td>44937.0</td>\n",
       "    </tr>\n",
       "    <tr>\n",
       "      <th>5</th>\n",
       "      <td>Yearn Finance yDai Vault</td>\n",
       "      <td>8644044.0</td>\n",
       "    </tr>\n",
       "  </tbody>\n",
       "</table>\n",
       "</div>"
      ],
      "text/plain": [
       "                  ptcl_name  gas_for_hcktrans\n",
       "0                    Bancor           37472.0\n",
       "1                      Opyn          522066.0\n",
       "2                  MakerDAO          447316.0\n",
       "4                 Akropolis           44937.0\n",
       "5  Yearn Finance yDai Vault         8644044.0"
      ]
     },
     "execution_count": 10,
     "metadata": {},
     "output_type": "execute_result"
    }
   ],
   "source": [
    "ndf.head()"
   ]
  },
  {
   "cell_type": "code",
   "execution_count": 11,
   "metadata": {},
   "outputs": [
    {
     "data": {
      "text/plain": [
       "'\\nplt.scatter(ndf[\"gas_for_hcktrans\"], ndf[\"ptcl_name\"])\\nplt.title(\\'Ethereum gas used by hacker per trans\\')\\nplt.xlabel(\\'Amount\\')\\nplt.ylabel(\\'Protocal\\')\\nplt.tight_layout(-20) #Spaces out x-axis data so that it no longer overlaps\\n'"
      ]
     },
     "execution_count": 11,
     "metadata": {},
     "output_type": "execute_result"
    }
   ],
   "source": [
    "'''\n",
    "plt.scatter(ndf[\"gas_for_hcktrans\"], ndf[\"ptcl_name\"])\n",
    "plt.title('Ethereum gas used by hacker per trans')\n",
    "plt.xlabel('Amount')\n",
    "plt.ylabel('Protocal')\n",
    "plt.tight_layout(-20) #Spaces out x-axis data so that it no longer overlaps\n",
    "'''"
   ]
  },
  {
   "cell_type": "markdown",
   "metadata": {},
   "source": [
    "### Market Cap of DeFi Project"
   ]
  },
  {
   "cell_type": "code",
   "execution_count": 12,
   "metadata": {
    "scrolled": false
   },
   "outputs": [
    {
     "data": {
      "text/html": [
       "<div>\n",
       "<style scoped>\n",
       "    .dataframe tbody tr th:only-of-type {\n",
       "        vertical-align: middle;\n",
       "    }\n",
       "\n",
       "    .dataframe tbody tr th {\n",
       "        vertical-align: top;\n",
       "    }\n",
       "\n",
       "    .dataframe thead th {\n",
       "        text-align: right;\n",
       "    }\n",
       "</style>\n",
       "<table border=\"1\" class=\"dataframe\">\n",
       "  <thead>\n",
       "    <tr style=\"text-align: right;\">\n",
       "      <th></th>\n",
       "      <th>ptcl_name</th>\n",
       "      <th>ptcl_Mcap_whenhckd</th>\n",
       "    </tr>\n",
       "  </thead>\n",
       "  <tbody>\n",
       "    <tr>\n",
       "      <th>0</th>\n",
       "      <td>Bancor</td>\n",
       "      <td>7.200000e+07</td>\n",
       "    </tr>\n",
       "    <tr>\n",
       "      <th>2</th>\n",
       "      <td>MakerDAO</td>\n",
       "      <td>4.250000e+08</td>\n",
       "    </tr>\n",
       "    <tr>\n",
       "      <th>4</th>\n",
       "      <td>Akropolis</td>\n",
       "      <td>2.700000e+07</td>\n",
       "    </tr>\n",
       "    <tr>\n",
       "      <th>5</th>\n",
       "      <td>Yearn Finance yDai Vault</td>\n",
       "      <td>1.220000e+09</td>\n",
       "    </tr>\n",
       "    <tr>\n",
       "      <th>6</th>\n",
       "      <td>Spartan Protocol</td>\n",
       "      <td>9.500000e+06</td>\n",
       "    </tr>\n",
       "  </tbody>\n",
       "</table>\n",
       "</div>"
      ],
      "text/plain": [
       "                  ptcl_name  ptcl_Mcap_whenhckd\n",
       "0                    Bancor        7.200000e+07\n",
       "2                  MakerDAO        4.250000e+08\n",
       "4                 Akropolis        2.700000e+07\n",
       "5  Yearn Finance yDai Vault        1.220000e+09\n",
       "6          Spartan Protocol        9.500000e+06"
      ]
     },
     "execution_count": 12,
     "metadata": {},
     "output_type": "execute_result"
    }
   ],
   "source": [
    "mc_df = df[['ptcl_name','ptcl_Mcap_whenhckd']].dropna()\n",
    "mc_df.head()"
   ]
  },
  {
   "cell_type": "code",
   "execution_count": 13,
   "metadata": {},
   "outputs": [
    {
     "data": {
      "text/plain": [
       "0      72000000\n",
       "2     425000000\n",
       "4      27000000\n",
       "5    1220000000\n",
       "6       9500000\n",
       "Name: ptcl_Mcap_whenhckd, dtype: int64"
      ]
     },
     "execution_count": 13,
     "metadata": {},
     "output_type": "execute_result"
    }
   ],
   "source": [
    "mc_df[\"ptcl_Mcap_whenhckd\"].astype(float).astype(int).head() # Changes dtype for mCap from float to int"
   ]
  },
  {
   "cell_type": "code",
   "execution_count": 14,
   "metadata": {},
   "outputs": [
    {
     "data": {
      "image/png": "[encoded data removed]",
      "text/plain": [
       "<Figure size 432x288 with 1 Axes>"
      ]
     },
     "metadata": {
      "needs_background": "light"
     },
     "output_type": "display_data"
    }
   ],
   "source": [
    "# Scatter plot represents a random set of 7 data points \n",
    "# representing DeFi protocols with low market caps during the hack/exploit\n",
    "\n",
    "plt.scatter(mc_df[\"ptcl_name\"].head(7), mc_df[\"ptcl_Mcap_whenhckd\"].head(7))\n",
    "plt.title('DeFi Project Market Cap during attack')\n",
    "plt.xlabel('Protocol')\n",
    "plt.ylabel('Market Cap')\n",
    "\n",
    "plt.xticks(rotation=45)\n",
    "plt.tight_layout(-5) #Spaces out x-axis data so that it no longer overlaps"
   ]
  },
  {
   "cell_type": "code",
   "execution_count": 15,
   "metadata": {
    "scrolled": false
   },
   "outputs": [
    {
     "data": {
      "text/html": [
       "<div>\n",
       "<style scoped>\n",
       "    .dataframe tbody tr th:only-of-type {\n",
       "        vertical-align: middle;\n",
       "    }\n",
       "\n",
       "    .dataframe tbody tr th {\n",
       "        vertical-align: top;\n",
       "    }\n",
       "\n",
       "    .dataframe thead th {\n",
       "        text-align: right;\n",
       "    }\n",
       "</style>\n",
       "<table border=\"1\" class=\"dataframe\">\n",
       "  <thead>\n",
       "    <tr style=\"text-align: right;\">\n",
       "      <th></th>\n",
       "      <th>ptcl_name</th>\n",
       "      <th>ptcl_Mcap_whenhckd</th>\n",
       "    </tr>\n",
       "  </thead>\n",
       "  <tbody>\n",
       "    <tr>\n",
       "      <th>0</th>\n",
       "      <td>Bancor</td>\n",
       "      <td>7.200000e+07</td>\n",
       "    </tr>\n",
       "    <tr>\n",
       "      <th>2</th>\n",
       "      <td>MakerDAO</td>\n",
       "      <td>4.250000e+08</td>\n",
       "    </tr>\n",
       "    <tr>\n",
       "      <th>4</th>\n",
       "      <td>Akropolis</td>\n",
       "      <td>2.700000e+07</td>\n",
       "    </tr>\n",
       "    <tr>\n",
       "      <th>5</th>\n",
       "      <td>Yearn Finance yDai Vault</td>\n",
       "      <td>1.220000e+09</td>\n",
       "    </tr>\n",
       "    <tr>\n",
       "      <th>6</th>\n",
       "      <td>Spartan Protocol</td>\n",
       "      <td>9.500000e+06</td>\n",
       "    </tr>\n",
       "  </tbody>\n",
       "</table>\n",
       "</div>"
      ],
      "text/plain": [
       "                  ptcl_name  ptcl_Mcap_whenhckd\n",
       "0                    Bancor        7.200000e+07\n",
       "2                  MakerDAO        4.250000e+08\n",
       "4                 Akropolis        2.700000e+07\n",
       "5  Yearn Finance yDai Vault        1.220000e+09\n",
       "6          Spartan Protocol        9.500000e+06"
      ]
     },
     "execution_count": 15,
     "metadata": {},
     "output_type": "execute_result"
    }
   ],
   "source": [
    "mc_df = df[['ptcl_name', 'ptcl_Mcap_whenhckd']].dropna() # Drops null values in gas df\n",
    "mc_df.head()"
   ]
  },
  {
   "cell_type": "code",
   "execution_count": 16,
   "metadata": {},
   "outputs": [
    {
     "data": {
      "text/plain": [
       "0    7.200000e+07\n",
       "2    4.250000e+08\n",
       "4    2.700000e+07\n",
       "5    1.220000e+09\n",
       "6    9.500000e+06\n",
       "Name: ptcl_Mcap_whenhckd, dtype: float64"
      ]
     },
     "execution_count": 16,
     "metadata": {},
     "output_type": "execute_result"
    }
   ],
   "source": [
    "mc_df[\"ptcl_Mcap_whenhckd\"].head()"
   ]
  },
  {
   "cell_type": "code",
   "execution_count": 17,
   "metadata": {
    "scrolled": true
   },
   "outputs": [
    {
     "data": {
      "text/plain": [
       "0      72000000\n",
       "2     425000000\n",
       "4      27000000\n",
       "5    1220000000\n",
       "6       9500000\n",
       "Name: ptcl_Mcap_whenhckd, dtype: int64"
      ]
     },
     "execution_count": 17,
     "metadata": {},
     "output_type": "execute_result"
    }
   ],
   "source": [
    "mc_df[\"ptcl_Mcap_whenhckd\"].astype(float).astype(int).head()"
   ]
  },
  {
   "cell_type": "code",
   "execution_count": 18,
   "metadata": {},
   "outputs": [
    {
     "data": {
      "image/png": "[encoded data removed]",
      "text/plain": [
       "<Figure size 432x288 with 1 Axes>"
      ]
     },
     "metadata": {
      "needs_background": "light"
     },
     "output_type": "display_data"
    }
   ],
   "source": [
    "plt.scatter(mc_df[\"ptcl_name\"].tail(7), mc_df[\"ptcl_Mcap_whenhckd\"].tail(7))\n",
    "plt.title('DeFi Project Market Cap during attack')\n",
    "plt.xlabel('Protocol')\n",
    "plt.ylabel('Market Cap')\n",
    "\n",
    "plt.xticks(rotation=45)\n",
    "plt.tight_layout(-5) #Spaces out x-axis data so that it no longer overlaps"
   ]
  },
  {
   "cell_type": "code",
   "execution_count": 19,
   "metadata": {},
   "outputs": [
    {
     "data": {
      "text/plain": [
       "0    13500000.0\n",
       "1      371260.0\n",
       "2     8320000.0\n",
       "3      300000.0\n",
       "4     2030851.0\n",
       "Name: dollar_value_lost, dtype: float64"
      ]
     },
     "execution_count": 19,
     "metadata": {},
     "output_type": "execute_result"
    }
   ],
   "source": [
    "df[\"dollar_value_lost\"]\n",
    "df[\"dollar_value_lost\"].dropna().head()\n",
    "#df[\"dollar_value_lost\"].astype(float).astype(int)"
   ]
  },
  {
   "cell_type": "markdown",
   "metadata": {},
   "source": [
    "### Top 10 Protocol Attacks by lowest Market Cap"
   ]
  },
  {
   "cell_type": "markdown",
   "metadata": {},
   "source": [
    "The following protocols are the \"least\" susceptible by Market Cap valuation. Later in the analysis we can associate how protocol type, exploit type, and Market Cap are associated. Analytically, we cannot assumed that the protocol with the lowest Market Cap is \"least\" susceptible but with this ordered list we can target how often certain protocols and exploits appear in relation to project Market Cap. "
   ]
  },
  {
   "cell_type": "code",
   "execution_count": 20,
   "metadata": {
    "scrolled": true
   },
   "outputs": [
    {
     "data": {
      "text/html": [
       "<div>\n",
       "<style scoped>\n",
       "    .dataframe tbody tr th:only-of-type {\n",
       "        vertical-align: middle;\n",
       "    }\n",
       "\n",
       "    .dataframe tbody tr th {\n",
       "        vertical-align: top;\n",
       "    }\n",
       "\n",
       "    .dataframe thead th {\n",
       "        text-align: right;\n",
       "    }\n",
       "</style>\n",
       "<table border=\"1\" class=\"dataframe\">\n",
       "  <thead>\n",
       "    <tr style=\"text-align: right;\">\n",
       "      <th></th>\n",
       "      <th>ptcl_name</th>\n",
       "      <th>ptcl_Mcap_whenhckd</th>\n",
       "    </tr>\n",
       "  </thead>\n",
       "  <tbody>\n",
       "    <tr>\n",
       "      <th>81</th>\n",
       "      <td>keep3rX</td>\n",
       "      <td>12626.0</td>\n",
       "    </tr>\n",
       "    <tr>\n",
       "      <th>114</th>\n",
       "      <td>K3psav</td>\n",
       "      <td>28014.0</td>\n",
       "    </tr>\n",
       "    <tr>\n",
       "      <th>83</th>\n",
       "      <td>Burn Vault Finance</td>\n",
       "      <td>34970.0</td>\n",
       "    </tr>\n",
       "    <tr>\n",
       "      <th>59</th>\n",
       "      <td>Vaultz</td>\n",
       "      <td>38885.0</td>\n",
       "    </tr>\n",
       "    <tr>\n",
       "      <th>87</th>\n",
       "      <td>Contribute.Protocol</td>\n",
       "      <td>46000.0</td>\n",
       "    </tr>\n",
       "    <tr>\n",
       "      <th>117</th>\n",
       "      <td>DarkDeFi</td>\n",
       "      <td>128500.0</td>\n",
       "    </tr>\n",
       "    <tr>\n",
       "      <th>138</th>\n",
       "      <td>Magix</td>\n",
       "      <td>150000.0</td>\n",
       "    </tr>\n",
       "    <tr>\n",
       "      <th>93</th>\n",
       "      <td>Defibase</td>\n",
       "      <td>224034.0</td>\n",
       "    </tr>\n",
       "    <tr>\n",
       "      <th>119</th>\n",
       "      <td>iProtocol</td>\n",
       "      <td>305000.0</td>\n",
       "    </tr>\n",
       "    <tr>\n",
       "      <th>51</th>\n",
       "      <td>VEther/Vader</td>\n",
       "      <td>330000.0</td>\n",
       "    </tr>\n",
       "  </tbody>\n",
       "</table>\n",
       "</div>"
      ],
      "text/plain": [
       "               ptcl_name  ptcl_Mcap_whenhckd\n",
       "81               keep3rX             12626.0\n",
       "114               K3psav             28014.0\n",
       "83    Burn Vault Finance             34970.0\n",
       "59                Vaultz             38885.0\n",
       "87   Contribute.Protocol             46000.0\n",
       "117             DarkDeFi            128500.0\n",
       "138                Magix            150000.0\n",
       "93              Defibase            224034.0\n",
       "119            iProtocol            305000.0\n",
       "51          VEther/Vader            330000.0"
      ]
     },
     "execution_count": 20,
     "metadata": {},
     "output_type": "execute_result"
    }
   ],
   "source": [
    "mc_sorted_df = mc_df.sort_values(by='ptcl_Mcap_whenhckd', ascending=True) # Sorts Market Caps from smallest to largest\n",
    "mc_sorted_df.head(10) # Consolidate top 10 ptcls with low market cap"
   ]
  },
  {
   "cell_type": "code",
   "execution_count": 21,
   "metadata": {},
   "outputs": [
    {
     "data": {
      "image/png": "[encoded data removed]",
      "text/plain": [
       "<Figure size 432x288 with 2 Axes>"
      ]
     },
     "metadata": {
      "needs_background": "light"
     },
     "output_type": "display_data"
    }
   ],
   "source": [
    "plt.figure()\n",
    "N = 10\n",
    "plt.bar(x=mc_sorted_df[\"ptcl_name\"].head(10),\n",
    " \n",
    "        height=mc_sorted_df[\"ptcl_Mcap_whenhckd\"].head(10), color=\"purple\")\n",
    "\n",
    "plt.title(\"Protocols by Low Market Cap Results\")\n",
    "plt.xlabel(\"Protocol\")\n",
    "plt.ylabel(\"Market Cap\")\n",
    "plt.tight_layout(-3)\n",
    "plt.xticks(rotation=45)\n",
    "\n",
    "x = np.linspace(0, N)\n",
    "y = np.sin(x * -.5)\n",
    "axes2 = plt.twinx()\n",
    "axes2.plot(x, y, color='r', label='Sine')\n",
    "axes2.set_ylim(-1, 1)\n",
    "axes2.set_ylabel('Sine Plot')\n",
    "\n",
    "plt.show()"
   ]
  },
  {
   "cell_type": "markdown",
   "metadata": {},
   "source": [
    "### Top 10 Protocol Attacks by highest Market Cap"
   ]
  },
  {
   "cell_type": "markdown",
   "metadata": {},
   "source": [
    "The following protocols are the \"most\" susceptible by Market Cap valuation. Later in the analysis we will associate factors such as protocol type, exploit type, and Market Cap are associated. Analytically, we cannot assumed that the protocol with the highest Market Cap is \"most\" susceptible but with this ordered list we can target how often certain protocols and exploits appear in relation to project Market Cap."
   ]
  },
  {
   "cell_type": "code",
   "execution_count": 21,
   "metadata": {},
   "outputs": [
    {
     "data": {
      "text/html": [
       "<div>\n",
       "<style scoped>\n",
       "    .dataframe tbody tr th:only-of-type {\n",
       "        vertical-align: middle;\n",
       "    }\n",
       "\n",
       "    .dataframe tbody tr th {\n",
       "        vertical-align: top;\n",
       "    }\n",
       "\n",
       "    .dataframe thead th {\n",
       "        text-align: right;\n",
       "    }\n",
       "</style>\n",
       "<table border=\"1\" class=\"dataframe\">\n",
       "  <thead>\n",
       "    <tr style=\"text-align: right;\">\n",
       "      <th></th>\n",
       "      <th>ptcl_name</th>\n",
       "      <th>ptcl_Mcap_whenhckd</th>\n",
       "    </tr>\n",
       "  </thead>\n",
       "  <tbody>\n",
       "    <tr>\n",
       "      <th>17</th>\n",
       "      <td>Rari Capital</td>\n",
       "      <td>1.600000e+08</td>\n",
       "    </tr>\n",
       "    <tr>\n",
       "      <th>52</th>\n",
       "      <td>SushiSwap</td>\n",
       "      <td>1.950000e+08</td>\n",
       "    </tr>\n",
       "    <tr>\n",
       "      <th>14</th>\n",
       "      <td>SushiSwap</td>\n",
       "      <td>2.000000e+08</td>\n",
       "    </tr>\n",
       "    <tr>\n",
       "      <th>140</th>\n",
       "      <td>Veritaseum</td>\n",
       "      <td>3.200000e+08</td>\n",
       "    </tr>\n",
       "    <tr>\n",
       "      <th>55</th>\n",
       "      <td>Dodo</td>\n",
       "      <td>4.000000e+08</td>\n",
       "    </tr>\n",
       "    <tr>\n",
       "      <th>2</th>\n",
       "      <td>MakerDAO</td>\n",
       "      <td>4.250000e+08</td>\n",
       "    </tr>\n",
       "    <tr>\n",
       "      <th>22</th>\n",
       "      <td>Alpha</td>\n",
       "      <td>5.440000e+08</td>\n",
       "    </tr>\n",
       "    <tr>\n",
       "      <th>50</th>\n",
       "      <td>SushiSwap</td>\n",
       "      <td>1.140000e+09</td>\n",
       "    </tr>\n",
       "    <tr>\n",
       "      <th>5</th>\n",
       "      <td>Yearn Finance yDai Vault</td>\n",
       "      <td>1.220000e+09</td>\n",
       "    </tr>\n",
       "    <tr>\n",
       "      <th>16</th>\n",
       "      <td>The DAO</td>\n",
       "      <td>5.000000e+10</td>\n",
       "    </tr>\n",
       "  </tbody>\n",
       "</table>\n",
       "</div>"
      ],
      "text/plain": [
       "                    ptcl_name  ptcl_Mcap_whenhckd\n",
       "17               Rari Capital        1.600000e+08\n",
       "52                  SushiSwap        1.950000e+08\n",
       "14                  SushiSwap        2.000000e+08\n",
       "140                Veritaseum        3.200000e+08\n",
       "55                       Dodo        4.000000e+08\n",
       "2                    MakerDAO        4.250000e+08\n",
       "22                      Alpha        5.440000e+08\n",
       "50                  SushiSwap        1.140000e+09\n",
       "5    Yearn Finance yDai Vault        1.220000e+09\n",
       "16                    The DAO        5.000000e+10"
      ]
     },
     "execution_count": 21,
     "metadata": {},
     "output_type": "execute_result"
    }
   ],
   "source": [
    "mc_sorted_df.tail(10)"
   ]
  },
  {
   "cell_type": "code",
   "execution_count": 22,
   "metadata": {
    "scrolled": true
   },
   "outputs": [
    {
     "data": {
      "text/plain": [
       "([0, 1, 2, 3, 4, 5, 6, 7], <a list of 8 Text xticklabel objects>)"
      ]
     },
     "execution_count": 22,
     "metadata": {},
     "output_type": "execute_result"
    },
    {
     "data": {
      "image/png": "[encoded data removed]",
      "text/plain": [
       "<Figure size 648x216 with 1 Axes>"
      ]
     },
     "metadata": {
      "needs_background": "light"
     },
     "output_type": "display_data"
    }
   ],
   "source": [
    "fig, ax = plt.subplots(figsize =(9, 3))\n",
    "plt.bar(x=mc_sorted_df[\"ptcl_name\"].tail(10),\n",
    " \n",
    "        height=mc_sorted_df[\"ptcl_Mcap_whenhckd\"].tail(10), color=\"purple\")\n",
    "\n",
    "plt.title(\"Protocols by High Market Cap Results\")\n",
    "plt.xlabel(\"Protocol\")\n",
    "plt.ylabel(\"Market Cap\")\n",
    "plt.tight_layout(-3)\n",
    "plt.xticks(rotation=45)"
   ]
  },
  {
   "cell_type": "markdown",
   "metadata": {},
   "source": [
    "## Total Digital Asset loss in hacker exploit"
   ]
  },
  {
   "cell_type": "markdown",
   "metadata": {},
   "source": [
    "The following analysis is an aggregation of DataFrames and plots derived from the dollar value loss in hacks/exploits. We were able to find how the top losses in the DeFi industry including rug pulls, privat key compromises, smart contract exploits, flash loan attacks, reentrancies, and etc."
   ]
  },
  {
   "cell_type": "code",
   "execution_count": 36,
   "metadata": {},
   "outputs": [],
   "source": [
    "dv_df = df[['ptcl_name','dollar_value_lost']].dropna() # Drops null values in DV loss col"
   ]
  },
  {
   "cell_type": "code",
   "execution_count": 25,
   "metadata": {},
   "outputs": [
    {
     "data": {
      "text/html": [
       "<div>\n",
       "<style scoped>\n",
       "    .dataframe tbody tr th:only-of-type {\n",
       "        vertical-align: middle;\n",
       "    }\n",
       "\n",
       "    .dataframe tbody tr th {\n",
       "        vertical-align: top;\n",
       "    }\n",
       "\n",
       "    .dataframe thead th {\n",
       "        text-align: right;\n",
       "    }\n",
       "</style>\n",
       "<table border=\"1\" class=\"dataframe\">\n",
       "  <thead>\n",
       "    <tr style=\"text-align: right;\">\n",
       "      <th></th>\n",
       "      <th>ptcl_name</th>\n",
       "      <th>dollar_value_lost</th>\n",
       "    </tr>\n",
       "  </thead>\n",
       "  <tbody>\n",
       "    <tr>\n",
       "      <th>0</th>\n",
       "      <td>Bancor</td>\n",
       "      <td>13500000.0</td>\n",
       "    </tr>\n",
       "    <tr>\n",
       "      <th>1</th>\n",
       "      <td>Opyn</td>\n",
       "      <td>371260.0</td>\n",
       "    </tr>\n",
       "    <tr>\n",
       "      <th>2</th>\n",
       "      <td>MakerDAO</td>\n",
       "      <td>8320000.0</td>\n",
       "    </tr>\n",
       "    <tr>\n",
       "      <th>3</th>\n",
       "      <td>UniSwap v1</td>\n",
       "      <td>300000.0</td>\n",
       "    </tr>\n",
       "    <tr>\n",
       "      <th>4</th>\n",
       "      <td>Akropolis</td>\n",
       "      <td>2030851.0</td>\n",
       "    </tr>\n",
       "  </tbody>\n",
       "</table>\n",
       "</div>"
      ],
      "text/plain": [
       "    ptcl_name  dollar_value_lost\n",
       "0      Bancor         13500000.0\n",
       "1        Opyn           371260.0\n",
       "2    MakerDAO          8320000.0\n",
       "3  UniSwap v1           300000.0\n",
       "4   Akropolis          2030851.0"
      ]
     },
     "execution_count": 25,
     "metadata": {},
     "output_type": "execute_result"
    }
   ],
   "source": [
    "dv_df.head()"
   ]
  },
  {
   "cell_type": "code",
   "execution_count": 29,
   "metadata": {
    "scrolled": true
   },
   "outputs": [
    {
     "data": {
      "text/plain": [
       "0    13500000\n",
       "1      371260\n",
       "2     8320000\n",
       "3      300000\n",
       "4     2030851\n",
       "Name: dollar_value_lost, dtype: int64"
      ]
     },
     "execution_count": 29,
     "metadata": {},
     "output_type": "execute_result"
    }
   ],
   "source": [
    "dv_df['dollar_value_lost'].astype(float).astype(int).head()"
   ]
  },
  {
   "cell_type": "code",
   "execution_count": 30,
   "metadata": {},
   "outputs": [
    {
     "data": {
      "text/html": [
       "<div>\n",
       "<style scoped>\n",
       "    .dataframe tbody tr th:only-of-type {\n",
       "        vertical-align: middle;\n",
       "    }\n",
       "\n",
       "    .dataframe tbody tr th {\n",
       "        vertical-align: top;\n",
       "    }\n",
       "\n",
       "    .dataframe thead th {\n",
       "        text-align: right;\n",
       "    }\n",
       "</style>\n",
       "<table border=\"1\" class=\"dataframe\">\n",
       "  <thead>\n",
       "    <tr style=\"text-align: right;\">\n",
       "      <th></th>\n",
       "      <th>ptcl_name</th>\n",
       "      <th>dollar_value_lost</th>\n",
       "    </tr>\n",
       "  </thead>\n",
       "  <tbody>\n",
       "    <tr>\n",
       "      <th>0</th>\n",
       "      <td>Bancor</td>\n",
       "      <td>13500000.0</td>\n",
       "    </tr>\n",
       "    <tr>\n",
       "      <th>1</th>\n",
       "      <td>Opyn</td>\n",
       "      <td>371260.0</td>\n",
       "    </tr>\n",
       "    <tr>\n",
       "      <th>2</th>\n",
       "      <td>MakerDAO</td>\n",
       "      <td>8320000.0</td>\n",
       "    </tr>\n",
       "    <tr>\n",
       "      <th>3</th>\n",
       "      <td>UniSwap v1</td>\n",
       "      <td>300000.0</td>\n",
       "    </tr>\n",
       "    <tr>\n",
       "      <th>4</th>\n",
       "      <td>Akropolis</td>\n",
       "      <td>2030851.0</td>\n",
       "    </tr>\n",
       "  </tbody>\n",
       "</table>\n",
       "</div>"
      ],
      "text/plain": [
       "    ptcl_name  dollar_value_lost\n",
       "0      Bancor         13500000.0\n",
       "1        Opyn           371260.0\n",
       "2    MakerDAO          8320000.0\n",
       "3  UniSwap v1           300000.0\n",
       "4   Akropolis          2030851.0"
      ]
     },
     "execution_count": 30,
     "metadata": {},
     "output_type": "execute_result"
    }
   ],
   "source": [
    "dv_df.head()"
   ]
  },
  {
   "cell_type": "code",
   "execution_count": 31,
   "metadata": {},
   "outputs": [
    {
     "data": {
      "text/html": [
       "<div>\n",
       "<style scoped>\n",
       "    .dataframe tbody tr th:only-of-type {\n",
       "        vertical-align: middle;\n",
       "    }\n",
       "\n",
       "    .dataframe tbody tr th {\n",
       "        vertical-align: top;\n",
       "    }\n",
       "\n",
       "    .dataframe thead th {\n",
       "        text-align: right;\n",
       "    }\n",
       "</style>\n",
       "<table border=\"1\" class=\"dataframe\">\n",
       "  <thead>\n",
       "    <tr style=\"text-align: right;\">\n",
       "      <th></th>\n",
       "      <th>ptcl_name</th>\n",
       "      <th>dollar_value_lost</th>\n",
       "    </tr>\n",
       "  </thead>\n",
       "  <tbody>\n",
       "    <tr>\n",
       "      <th>79</th>\n",
       "      <td>Yearnspace</td>\n",
       "      <td>0.0</td>\n",
       "    </tr>\n",
       "    <tr>\n",
       "      <th>83</th>\n",
       "      <td>Burn Vault Finance</td>\n",
       "      <td>1396.0</td>\n",
       "    </tr>\n",
       "    <tr>\n",
       "      <th>60</th>\n",
       "      <td>penny protocol</td>\n",
       "      <td>1884.0</td>\n",
       "    </tr>\n",
       "    <tr>\n",
       "      <th>148</th>\n",
       "      <td>Dark Matter</td>\n",
       "      <td>3000.0</td>\n",
       "    </tr>\n",
       "    <tr>\n",
       "      <th>144</th>\n",
       "      <td>SantaDAO</td>\n",
       "      <td>3456.0</td>\n",
       "    </tr>\n",
       "    <tr>\n",
       "      <th>134</th>\n",
       "      <td>Cakelock</td>\n",
       "      <td>4230.0</td>\n",
       "    </tr>\n",
       "    <tr>\n",
       "      <th>137</th>\n",
       "      <td>Hatch DAO</td>\n",
       "      <td>4319.0</td>\n",
       "    </tr>\n",
       "    <tr>\n",
       "      <th>95</th>\n",
       "      <td>Shabuvault</td>\n",
       "      <td>5500.0</td>\n",
       "    </tr>\n",
       "    <tr>\n",
       "      <th>138</th>\n",
       "      <td>Magix</td>\n",
       "      <td>6000.0</td>\n",
       "    </tr>\n",
       "    <tr>\n",
       "      <th>87</th>\n",
       "      <td>Contribute.Protocol</td>\n",
       "      <td>6000.0</td>\n",
       "    </tr>\n",
       "  </tbody>\n",
       "</table>\n",
       "</div>"
      ],
      "text/plain": [
       "               ptcl_name  dollar_value_lost\n",
       "79            Yearnspace                0.0\n",
       "83    Burn Vault Finance             1396.0\n",
       "60        penny protocol             1884.0\n",
       "148          Dark Matter             3000.0\n",
       "144             SantaDAO             3456.0\n",
       "134             Cakelock             4230.0\n",
       "137            Hatch DAO             4319.0\n",
       "95            Shabuvault             5500.0\n",
       "138                Magix             6000.0\n",
       "87   Contribute.Protocol             6000.0"
      ]
     },
     "execution_count": 31,
     "metadata": {},
     "output_type": "execute_result"
    }
   ],
   "source": [
    "dv_sorted_df = dv_df.sort_values(by='dollar_value_lost', ascending=True) # Sorts Market Caps from smallest to largest\n",
    "dv_sorted_df.head(10) # Consolidate top 10 ptcls with low market cap"
   ]
  },
  {
   "cell_type": "code",
   "execution_count": 32,
   "metadata": {},
   "outputs": [
    {
     "data": {
      "text/plain": [
       "([0, 1, 2, 3, 4, 5, 6, 7, 8, 9, 10, 11, 12, 13, 14, 15, 16, 17, 18, 19],\n",
       " <a list of 20 Text xticklabel objects>)"
      ]
     },
     "execution_count": 32,
     "metadata": {},
     "output_type": "execute_result"
    },
    {
     "data": {
      "image/png": "[encoded data removed]",
      "text/plain": [
       "<Figure size 648x216 with 1 Axes>"
      ]
     },
     "metadata": {
      "needs_background": "light"
     },
     "output_type": "display_data"
    }
   ],
   "source": [
    "N=20\n",
    "fig, ax = plt.subplots(figsize =(9, 3)) # figure size\n",
    "\n",
    "plt.bar(x=dv_sorted_df[\"ptcl_name\"].head(20),\n",
    " \n",
    "        height=dv_sorted_df[\"dollar_value_lost\"].head(20), color=\"purple\")\n",
    "\n",
    "plt.title(\"Protocols with low level loss\")\n",
    "plt.xlabel(\"Protocol\")\n",
    "plt.ylabel(\"Value loss\")\n",
    "plt.tight_layout(-5)\n",
    "plt.xticks(rotation=45)"
   ]
  },
  {
   "cell_type": "code",
   "execution_count": 33,
   "metadata": {},
   "outputs": [
    {
     "data": {
      "text/plain": [
       "([0, 1, 2, 3, 4, 5, 6, 7, 8, 9, 10, 11, 12, 13, 14, 15, 16, 17, 18, 19],\n",
       " <a list of 20 Text xticklabel objects>)"
      ]
     },
     "execution_count": 33,
     "metadata": {},
     "output_type": "execute_result"
    },
    {
     "data": {
      "image/png": "[encoded data removed]",
      "text/plain": [
       "<Figure size 648x216 with 1 Axes>"
      ]
     },
     "metadata": {
      "needs_background": "light"
     },
     "output_type": "display_data"
    }
   ],
   "source": [
    "fig, ax = plt.subplots(figsize =(9, 3)) # figure size\n",
    "\n",
    "plt.bar(x=dv_sorted_df[\"ptcl_name\"].tail(20),\n",
    " \n",
    "        height=dv_sorted_df[\"dollar_value_lost\"].tail(20), color=\"purple\")\n",
    "\n",
    " \n",
    "plt.title(\"Protocols with high $ value loss in (USD)\")\n",
    "plt.xlabel(\"Protocol\")\n",
    "plt.ylabel(\"Value Loss\")\n",
    "plt.tight_layout(-10)\n",
    "plt.xticks(rotation=45)"
   ]
  },
  {
   "cell_type": "code",
   "execution_count": 34,
   "metadata": {},
   "outputs": [
    {
     "data": {
      "text/plain": [
       "([0, 1, 2, 3, 4, 5, 6, 7, 8, 9], <a list of 10 Text xticklabel objects>)"
      ]
     },
     "execution_count": 34,
     "metadata": {},
     "output_type": "execute_result"
    },
    {
     "data": {
      "image/png": "[encoded data removed]",
      "text/plain": [
       "<Figure size 432x288 with 1 Axes>"
      ]
     },
     "metadata": {
      "needs_background": "light"
     },
     "output_type": "display_data"
    }
   ],
   "source": [
    "plt.scatter(dv_df['ptcl_name'].head(10), dv_df['dollar_value_lost'].head(10))\n",
    "plt.title('Assets loss in DeFi exploit')\n",
    "plt.xlabel('Protocol')\n",
    "plt.ylabel('Amount of assets loss USD')\n",
    "plt.tight_layout(-7) #Spaces out x-axis data so that it no longer overlaps\n",
    "plt.xticks(rotation=45)"
   ]
  }
 ],
 "metadata": {
  "kernelspec": {
   "display_name": "Python 3",
   "language": "python",
   "name": "python3"
  },
  "language_info": {
   "codemirror_mode": {
    "name": "ipython",
    "version": 3
   },
   "file_extension": ".py",
   "mimetype": "text/x-python",
   "name": "python",
   "nbconvert_exporter": "python",
   "pygments_lexer": "ipython3",
   "version": "3.7.2"
  }
 },
 "nbformat": 4,
 "nbformat_minor": 2
}
